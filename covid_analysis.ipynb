{
 "cells": [
  {
   "cell_type": "code",
   "execution_count": null,
   "id": "5091ec5b",
   "metadata": {},
   "outputs": [],
   "source": [
    "import pandas as pd\n",
    "\n",
    "df = pd.read_csv('compact.csv')"
   ]
  },
  {
   "cell_type": "code",
   "execution_count": null,
   "id": "67ce7850",
   "metadata": {},
   "outputs": [],
   "source": [
    "df.head()"
   ]
  },
  {
   "cell_type": "code",
   "execution_count": null,
   "id": "4e5bf259",
   "metadata": {},
   "outputs": [],
   "source": [
    "countries_to_analyze = ['Brazil', 'United States', 'India', 'South Africa']\n",
    "\n",
    "df_filtered = df[df['location'].isin(countries_to_analyze)]\n",
    "\n",
    "df_filtered = df_filtered[df_filtered['continent'].notna()]\n",
    "\n",
    "# Convert the 'date' column to date format\n",
    "df_filtered['date'] = pd.to_datetime(df_filtered['date'])"
   ]
  },
  {
   "cell_type": "code",
   "execution_count": null,
   "id": "4430bf8b",
   "metadata": {},
   "outputs": [],
   "source": [
    "print(df.columns)"
   ]
  },
  {
   "cell_type": "code",
   "execution_count": null,
   "id": "d7cd1e34",
   "metadata": {},
   "outputs": [],
   "source": [
    "import pandas as pd"
   ]
  },
  {
   "cell_type": "code",
   "execution_count": null,
   "id": "356d96ee",
   "metadata": {},
   "outputs": [],
   "source": [
    "df = pd.read_csv('compact.csv')"
   ]
  },
  {
   "cell_type": "code",
   "execution_count": null,
   "id": "a9a29be5",
   "metadata": {},
   "outputs": [],
   "source": [
    "# List of countries to analyze\n",
    "countries_to_analyze = ['Brazil', 'United States', 'India', 'South Africa']\n",
    "\n",
    "df_filtered = df[df['country'].isin(countries_to_analyze)]\n",
    "\n",
    "# Convert the 'date' column to date format\n",
    "df_filtered['date'] = pd.to_datetime(df_filtered['date'])"
   ]
  },
  {
   "cell_type": "code",
   "execution_count": null,
   "id": "f3ea8940",
   "metadata": {},
   "outputs": [],
   "source": [
    "import pandas as pd\n",
    "\n",
    "# Load the file\n",
    "df = pd.read_csv('compact.csv')\n",
    "\n",
    "# List of countries to analyze\n",
    "countries_to_analyze = ['Brazil', 'United States', 'India', 'South Africa']\n",
    "\n",
    "df_filtered = df[df['country'].isin(countries_to_analyze)].copy()\n",
    "\n",
    "# Convert the 'date' column to date format\n",
    "df_filtered['date'] = pd.to_datetime(df_filtered['date'])\n",
    "\n",
    "# Show first 5 lines to check\n",
    "df_filtered.head()"
   ]
  },
  {
   "cell_type": "code",
   "execution_count": null,
   "id": "31c7345a",
   "metadata": {},
   "outputs": [],
   "source": [
    "df_filtered.info()"
   ]
  },
  {
   "cell_type": "code",
   "execution_count": null,
   "id": "77e3ba95",
   "metadata": {},
   "outputs": [],
   "source": [
    "# Group by country and sum the columns\n",
    "df_filtered.groupby('country')[['total_cases', 'total_deaths']].max()"
   ]
  },
  {
   "cell_type": "code",
   "execution_count": null,
   "id": "763b3bf5",
   "metadata": {},
   "outputs": [],
   "source": [
    "import matplotlib.pyplot as plt"
   ]
  },
  {
   "cell_type": "code",
   "execution_count": null,
   "id": "5fe5659a",
   "metadata": {},
   "outputs": [],
   "source": [
    "# Set the chart size for better visualization\n",
    "plt.figure(figsize=(12, 6))"
   ]
  },
  {
   "cell_type": "code",
   "execution_count": null,
   "id": "9ed5d8b7",
   "metadata": {},
   "outputs": [],
   "source": [
    "# Group data by country and plot lines\n",
    "for country in countries_to_analyze:\n",
    "    country_data = df_filtered[df_filtered['country'] == country]\n",
    "    plt.plot(country_data['date'], country_data['total_cases'], label=country)\n"
   ]
  },
  {
   "cell_type": "code",
   "execution_count": null,
   "id": "0be52d50",
   "metadata": {},
   "outputs": [],
   "source": [
    "import matplotlib.pyplot as plt\n",
    "\n",
    "# Set the chart size for better visualization\n",
    "plt.figure(figsize=(12, 6))\n",
    "\n",
    "# Group data by country and plot lines\n",
    "for country in countries_to_analyze:\n",
    "    country_data = df_filtered[df_filtered['country'] == country]\n",
    "    plt.plot(country_data['date'], country_data['total_cases'], label=country)\n",
    "\n",
    "# Add titles and labels to the chart\n",
    "plt.title('Evolution of COVID-19 Cases by Country', fontsize=16)\n",
    "plt.xlabel('Data', fontsize=12)\n",
    "plt.ylabel('Total Cases', fontsize=12)\n",
    "plt.legend()\n",
    "plt.grid(True)\n",
    "plt.show()"
   ]
  },
  {
   "cell_type": "code",
   "execution_count": null,
   "id": "1cc0bc6f",
   "metadata": {},
   "outputs": [],
   "source": [
    "# Death Chart\n",
    "plt.figure(figsize=(12, 6))"
   ]
  },
  {
   "cell_type": "code",
   "execution_count": null,
   "id": "9f51d4d1",
   "metadata": {},
   "outputs": [],
   "source": [
    "for country in countries_to_analyze:\n",
    "    country_data = df_filtered[df_filtered['country'] == country]\n",
    "    plt.plot(country_data['date'], country_data['total_deaths'], label=country)\n"
   ]
  },
  {
   "cell_type": "code",
   "execution_count": null,
   "id": "13209142",
   "metadata": {},
   "outputs": [],
   "source": [
    "plt.title('Evolution of Total COVID-19 Deaths by Country', fontsize=16)\n",
    "plt.xlabel('Data', fontsize=12)\n",
    "plt.ylabel('Total Deaths', fontsize=12)\n",
    "plt.legend()\n",
    "plt.grid(True)\n",
    "plt.show()"
   ]
  },
  {
   "cell_type": "code",
   "execution_count": null,
   "id": "78b5ad4e",
   "metadata": {},
   "outputs": [],
   "source": [
    "# Vaccination Chart\n",
    "plt.figure(figsize=(12, 6))"
   ]
  },
  {
   "cell_type": "code",
   "execution_count": null,
   "id": "f39c9f44",
   "metadata": {},
   "outputs": [],
   "source": [
    "for country in countries_to_analyze:\n",
    "    country_data = df_filtered[df_filtered['country'] == country]\n",
    "    plt.plot(country_data['date'], country_data['people_vaccinated_per_hundred'], label=country)\n"
   ]
  },
  {
   "cell_type": "code",
   "execution_count": null,
   "id": "9aac538b",
   "metadata": {},
   "outputs": [],
   "source": [
    "plt.title('Total Vaccination per 100 People', fontsize=16)\n",
    "plt.xlabel('Data', fontsize=12)\n",
    "plt.ylabel('Vaccinated People (%)', fontsize=12)\n",
    "plt.legend()\n",
    "plt.grid(True)\n",
    "plt.show()"
   ]
  },
  {
   "cell_type": "code",
   "execution_count": null,
   "id": "62829ae8",
   "metadata": {},
   "outputs": [],
   "source": [
    "import matplotlib.pyplot as plt\n",
    "\n",
    "# --- Death Chart ---\n",
    "plt.figure(figsize=(12, 6))\n",
    "\n",
    "for country in countries_to_analyze:\n",
    "    country_data = df_filtered[df_filtered['country'] == country]\n",
    "    plt.plot(country_data['date'], country_data['total_deaths'], label=country)\n",
    "\n",
    "plt.title('Evolution of Total COVID-19 Deaths by Country', fontsize=16)\n",
    "plt.xlabel('Data', fontsize=12)\n",
    "plt.ylabel('Total Deaths', fontsize=12)\n",
    "plt.legend()\n",
    "plt.grid(True)\n",
    "plt.show()\n",
    "\n",
    "# --- Vaccination Chart ---\n",
    "plt.figure(figsize=(12, 6))\n",
    "\n",
    "for country in countries_to_analyze:\n",
    "    country_data = df_filtered[df_filtered['country'] == country]\n",
    "    plt.plot(country_data['date'], country_data['people_vaccinated_per_hundred'], label=country)\n",
    "\n",
    "plt.title('Total Vaccination per 100 People', fontsize=16)\n",
    "plt.xlabel('Data', fontsize=12)\n",
    "plt.ylabel('Vaccinated People (%)', fontsize=12)\n",
    "plt.legend()\n",
    "plt.grid(True)\n",
    "plt.show()"
   ]
  },
  {
   "cell_type": "code",
   "execution_count": null,
   "id": "345fdd3d",
   "metadata": {},
   "outputs": [],
   "source": [
    "# Create a new column 'death_rate' for each country\n",
    "df_filtered['death_rate'] = (df_filtered['total_deaths'] / df_filtered['total_cases']) * 100"
   ]
  },
  {
   "cell_type": "code",
   "execution_count": null,
   "id": "29cf8b3a",
   "metadata": {},
   "outputs": [],
   "source": [
    "df_filtered.head()"
   ]
  },
  {
   "cell_type": "code",
   "execution_count": null,
   "id": "dab1fbd7",
   "metadata": {},
   "outputs": [],
   "source": [
    "# Group the data by country and find the last (or highest) value of the mortality rate\n",
    "final_death_rate = df_filtered.groupby('country')['death_rate'].max().reset_index()\n",
    "print(final_death_rate)"
   ]
  },
  {
   "cell_type": "markdown",
   "id": "9a16fe42",
   "metadata": {},
   "source": [
    "# 🧠 Conclusions and Insight Analysis\n",
    "\n",
    "This section presents a summary of the most relevant findings from the exploratory analysis of COVID-19 data for Brazil, the United States, India, and South Africa.\n",
    "\n",
    "## 🌍 Overview of Cases and Deaths\n",
    "\n",
    "The initial analysis of cumulative case and death data reveals that the **United States and India had the highest absolute totals** among the countries studied. This outcome is not surprising given their large populations, which make them key reference points for understanding the scale of the pandemic.\n",
    "\n",
    "## ⚠️ Mortality Rate: An Indicator of Severity\n",
    "\n",
    "Although Brazil's total case and death counts do not surpass those of the U.S. and India, the analysis of the **mortality rate** (total deaths / total cases) offers a different perspective.\n",
    "\n",
    "With a rate of **6.99%**, Brazil showed the highest proportion of deaths relative to confirmed cases. This figure is crucial for understanding the severity of the pandemic’s impact, demonstrating that the seriousness of the disease in a country can be high regardless of the total case volume.\n",
    "\n",
    "## 💉 Linking Vaccination to Case Trends\n",
    "\n",
    "The vaccination analysis highlights **differing adoption and distribution trends** across countries:\n",
    "\n",
    "- **India** showed a sharply accelerating vaccination curve.\n",
    "- **South Africa** appeared to experience a slowdown in vaccination efforts.\n",
    "- **Brazil and the United States** reached a plateau in mass vaccination by 2023.\n",
    "\n",
    "A visual correlation can be observed between increased vaccination and the stabilization or decline in case and death curves in some countries, suggesting a positive impact from vaccination campaigns.\n"
   ]
  },
  {
   "cell_type": "code",
   "execution_count": null,
   "id": "db68d0c2",
   "metadata": {},
   "outputs": [],
   "source": [
    "# Group by country and get the last value of total_cases and the country code\n",
    "df_map = df_filtered.groupby('country').agg({\n",
    "    'total_cases': 'max',\n",
    "    'code': 'last'\n",
    "}).reset_index()\n",
    "\n",
    "print(df_map.head())"
   ]
  },
  {
   "cell_type": "code",
   "execution_count": null,
   "id": "750ba5cd",
   "metadata": {},
   "outputs": [],
   "source": [
    "import plotly.express as px\n",
    "\n",
    "fig = px.choropleth(df_map,\n",
    "                    locations=\"code\",\n",
    "                    hover_name=\"country\",\n",
    "                    color=\"total_cases\",\n",
    "                    color_continuous_scale=px.colors.sequential.Agsunset,\n",
    "                    title=\"Total COVID-19 Cases by Country\")\n",
    "\n",
    "fig.show()"
   ]
  },
  {
   "cell_type": "code",
   "execution_count": null,
   "id": "7527c76d",
   "metadata": {},
   "outputs": [],
   "source": [
    "import plotly.express as px\n",
    "\n",
    "# 1. PREPARE DATA FOR THE MAP\n",
    "# Group by country and get the last value of total_cases and the country code\n",
    "# For the map, we need a DataFrame with only one row per country.\n",
    "df_map = df_filtered.groupby('country').agg({\n",
    "    'total_cases': 'max',\n",
    "    'code': 'last'\n",
    "}).reset_index()\n",
    "\n",
    "# 2. CREATE AND DISPLAY THE MAP\n",
    "fig = px.choropleth(df_map,\n",
    "                    locations=\"code\",\n",
    "                    hover_name=\"country\",\n",
    "                    color=\"total_cases\",\n",
    "                    color_continuous_scale=px.colors.sequential.Agsunset,\n",
    "                    title=\"Total COVID-19 Cases by Country\")\n",
    "\n",
    "fig.show()"
   ]
  },
  {
   "cell_type": "code",
   "execution_count": null,
   "id": "b543591a",
   "metadata": {},
   "outputs": [],
   "source": [
    "import pandas as pd\n",
    "import plotly.express as px\n",
    "\n",
    "# 1. LOADING AND FILTERING DATA\n",
    "# From the country list\n",
    "countries_to_analyze = ['Brazil', 'United States', 'India', 'South Africa']\n",
    "\n",
    "# Load the file again\n",
    "df = pd.read_csv('compact.csv')\n",
    "\n",
    "# Filters the lines with the chosen countries\n",
    "df_filtered = df[df['country'].isin(countries_to_analyze)].copy()\n",
    "\n",
    "# Convert the 'date' column to date format\n",
    "df_filtered['date'] = pd.to_datetime(df_filtered['date'])\n",
    "\n",
    "# 2. PREPARING THE DATA FOR THE MAP\n",
    "# Group by country and get the last value of total_cases and the country code\n",
    "df_map = df_filtered.groupby('country').agg({\n",
    "    'total_cases': 'max',\n",
    "    'code': 'last'\n",
    "}).reset_index()\n",
    "\n",
    "# 3. CREATING AND DISPLAYING THE MAP\n",
    "fig = px.choropleth(df_map,\n",
    "                    locations=\"code\",\n",
    "                    hover_name=\"country\",\n",
    "                    color=\"total_cases\",\n",
    "                    color_continuous_scale=px.colors.sequential.Agsunset,\n",
    "                    title=\"Total COVID-19 Cases by Country\")\n",
    "\n",
    "fig.show()"
   ]
  },
  {
   "cell_type": "code",
   "execution_count": null,
   "id": "25f39950",
   "metadata": {},
   "outputs": [],
   "source": [
    "import plotly.express as px\n",
    "\n",
    "# Code to create the map\n",
    "fig = px.choropleth(df_map,\n",
    "                    locations=\"code\",\n",
    "                    hover_name=\"country\",\n",
    "                    color=\"total_cases\",\n",
    "                    color_continuous_scale=px.colors.sequential.Agsunset,\n",
    "                    title=\"<b>Total COVID-19 Cases by Country</b>\")\n",
    "\n",
    "# Center the title for a professional touch\n",
    "fig.update_layout(title_x=0.5)\n",
    "\n",
    "# Display the final graph\n",
    "fig.show()"
   ]
  },
  {
   "cell_type": "code",
   "execution_count": null,
   "id": "c0fa8614",
   "metadata": {},
   "outputs": [],
   "source": []
  }
 ],
 "metadata": {
  "kernelspec": {
   "display_name": "Python 3",
   "language": "python",
   "name": "python3"
  },
  "language_info": {
   "codemirror_mode": {
    "name": "ipython",
    "version": 3
   },
   "file_extension": ".py",
   "mimetype": "text/x-python",
   "name": "python",
   "nbconvert_exporter": "python",
   "pygments_lexer": "ipython3",
   "version": "3.13.5"
  }
 },
 "nbformat": 4,
 "nbformat_minor": 5
}
